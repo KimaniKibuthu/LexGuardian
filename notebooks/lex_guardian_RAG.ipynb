{
 "cells": [
  {
   "cell_type": "markdown",
   "metadata": {},
   "source": [
    "# Lex Guardian Notebook\n",
    "In this notebook, we experiment on the implementation of the law guardian"
   ]
  },
  {
   "cell_type": "markdown",
   "metadata": {},
   "source": [
    "## Import the Necessary files and Libraries"
   ]
  },
  {
   "cell_type": "code",
   "execution_count": 2,
   "metadata": {},
   "outputs": [
    {
     "data": {
      "text/plain": [
       "'c:\\\\Users\\\\Spectra\\\\LexGuardian'"
      ]
     },
     "execution_count": 2,
     "metadata": {},
     "output_type": "execute_result"
    }
   ],
   "source": [
    "# Set configuration for notebook\n",
    "import os\n",
    "\n",
    "os.chdir(\"c:\\\\Users\\\\Spectra\\\\LexGuardian\")\n",
    "os.getcwd()"
   ]
  },
  {
   "cell_type": "code",
   "execution_count": 3,
   "metadata": {},
   "outputs": [],
   "source": [
    "# Import libraries\n",
    "from dotenv import load_dotenv\n",
    "from lex_guardian.utils import load_config\n",
    "from qdrant_client import QdrantClient\n",
    "from langchain_community.vectorstores import Qdrant\n",
    "from langchain_community.document_loaders import PyPDFLoader\n",
    "from langchain.text_splitter import RecursiveCharacterTextSplitter\n",
    "from langchain_community.embeddings import HuggingFaceEmbeddings\n",
    "from langchain_community.llms import HuggingFaceEndpoint\n",
    "from langchain_core.prompts import PromptTemplate\n",
    "from langchain_core.output_parsers import StrOutputParser\n",
    "from langchain_core.runnables import RunnablePassthrough"
   ]
  },
  {
   "cell_type": "code",
   "execution_count": 4,
   "metadata": {},
   "outputs": [
    {
     "data": {
      "text/plain": [
       "True"
      ]
     },
     "execution_count": 4,
     "metadata": {},
     "output_type": "execute_result"
    }
   ],
   "source": [
    "# Load config and dotenv\n",
    "config = load_config()\n",
    "load_dotenv()"
   ]
  },
  {
   "cell_type": "markdown",
   "metadata": {},
   "source": [
    "## Process the documents"
   ]
  },
  {
   "cell_type": "code",
   "execution_count": 18,
   "metadata": {},
   "outputs": [],
   "source": [
    "# Load the data\n",
    "\n",
    "## Instantiate loader\n",
    "loader = PyPDFLoader(config[\"data\"][\"data_path\"])\n",
    "\n",
    "## load the data\n",
    "documents = loader.load()\n",
    "\n",
    "## Split documents\n",
    "text_splitter = RecursiveCharacterTextSplitter(chunk_size=500, chunk_overlap=50)\n",
    "text_chunks = text_splitter.split_documents(documents)"
   ]
  },
  {
   "cell_type": "code",
   "execution_count": 20,
   "metadata": {},
   "outputs": [
    {
     "name": "stderr",
     "output_type": "stream",
     "text": [
      "2024-07-03 18:15:58,317 - sentence_transformers.SentenceTransformer - INFO - Use pytorch device_name: cpu\n",
      "2024-07-03 18:15:58,319 - sentence_transformers.SentenceTransformer - INFO - Load pretrained SentenceTransformer: BAAI/bge-base-en-v1.5\n"
     ]
    },
    {
     "data": {
      "application/vnd.jupyter.widget-view+json": {
       "model_id": "8ed8609f087a4ca08cd384810d2829a6",
       "version_major": 2,
       "version_minor": 0
      },
      "text/plain": [
       "modules.json:   0%|          | 0.00/349 [00:00<?, ?B/s]"
      ]
     },
     "metadata": {},
     "output_type": "display_data"
    },
    {
     "name": "stderr",
     "output_type": "stream",
     "text": [
      "c:\\Users\\Spectra\\LexGuardian\\.venv\\Lib\\site-packages\\huggingface_hub\\file_download.py:157: UserWarning: `huggingface_hub` cache-system uses symlinks by default to efficiently store duplicated files but your machine does not support them in C:\\Users\\Spectra\\.cache\\huggingface\\hub\\models--BAAI--bge-base-en-v1.5. Caching files will still work but in a degraded version that might require more space on your disk. This warning can be disabled by setting the `HF_HUB_DISABLE_SYMLINKS_WARNING` environment variable. For more details, see https://huggingface.co/docs/huggingface_hub/how-to-cache#limitations.\n",
      "To support symlinks on Windows, you either need to activate Developer Mode or to run Python as an administrator. In order to see activate developer mode, see this article: https://docs.microsoft.com/en-us/windows/apps/get-started/enable-your-device-for-development\n",
      "  warnings.warn(message)\n"
     ]
    },
    {
     "data": {
      "application/vnd.jupyter.widget-view+json": {
       "model_id": "b50afdc7c06247d18cf5e51fe223b375",
       "version_major": 2,
       "version_minor": 0
      },
      "text/plain": [
       "config_sentence_transformers.json:   0%|          | 0.00/124 [00:00<?, ?B/s]"
      ]
     },
     "metadata": {},
     "output_type": "display_data"
    },
    {
     "data": {
      "application/vnd.jupyter.widget-view+json": {
       "model_id": "c0c857c8579f46fdb8806ab6e04538f0",
       "version_major": 2,
       "version_minor": 0
      },
      "text/plain": [
       "README.md:   0%|          | 0.00/94.6k [00:00<?, ?B/s]"
      ]
     },
     "metadata": {},
     "output_type": "display_data"
    },
    {
     "data": {
      "application/vnd.jupyter.widget-view+json": {
       "model_id": "2886689f84c245d2a007a0b9a3267d59",
       "version_major": 2,
       "version_minor": 0
      },
      "text/plain": [
       "sentence_bert_config.json:   0%|          | 0.00/52.0 [00:00<?, ?B/s]"
      ]
     },
     "metadata": {},
     "output_type": "display_data"
    },
    {
     "data": {
      "application/vnd.jupyter.widget-view+json": {
       "model_id": "89bca1d0389848fd809c92fac07ff944",
       "version_major": 2,
       "version_minor": 0
      },
      "text/plain": [
       "config.json:   0%|          | 0.00/777 [00:00<?, ?B/s]"
      ]
     },
     "metadata": {},
     "output_type": "display_data"
    },
    {
     "data": {
      "application/vnd.jupyter.widget-view+json": {
       "model_id": "725e996e024d40759990f5a817fd59b4",
       "version_major": 2,
       "version_minor": 0
      },
      "text/plain": [
       "model.safetensors:   0%|          | 0.00/438M [00:00<?, ?B/s]"
      ]
     },
     "metadata": {},
     "output_type": "display_data"
    },
    {
     "data": {
      "application/vnd.jupyter.widget-view+json": {
       "model_id": "4b261fbc0bd4413283c95f65c7829028",
       "version_major": 2,
       "version_minor": 0
      },
      "text/plain": [
       "tokenizer_config.json:   0%|          | 0.00/366 [00:00<?, ?B/s]"
      ]
     },
     "metadata": {},
     "output_type": "display_data"
    },
    {
     "data": {
      "application/vnd.jupyter.widget-view+json": {
       "model_id": "095ac596a430478992f78e2fc0a7a6b5",
       "version_major": 2,
       "version_minor": 0
      },
      "text/plain": [
       "vocab.txt:   0%|          | 0.00/232k [00:00<?, ?B/s]"
      ]
     },
     "metadata": {},
     "output_type": "display_data"
    },
    {
     "data": {
      "application/vnd.jupyter.widget-view+json": {
       "model_id": "78a90abcddba42029dba1eaaa294b0a8",
       "version_major": 2,
       "version_minor": 0
      },
      "text/plain": [
       "tokenizer.json:   0%|          | 0.00/711k [00:00<?, ?B/s]"
      ]
     },
     "metadata": {},
     "output_type": "display_data"
    },
    {
     "data": {
      "application/vnd.jupyter.widget-view+json": {
       "model_id": "f16b91c7410d40c8b1c364ee60673df8",
       "version_major": 2,
       "version_minor": 0
      },
      "text/plain": [
       "special_tokens_map.json:   0%|          | 0.00/125 [00:00<?, ?B/s]"
      ]
     },
     "metadata": {},
     "output_type": "display_data"
    },
    {
     "data": {
      "application/vnd.jupyter.widget-view+json": {
       "model_id": "a7e8e3202daf43abae9b0c7f915c34b3",
       "version_major": 2,
       "version_minor": 0
      },
      "text/plain": [
       "1_Pooling/config.json:   0%|          | 0.00/190 [00:00<?, ?B/s]"
      ]
     },
     "metadata": {},
     "output_type": "display_data"
    }
   ],
   "source": [
    "## Instantialize vectore store and load documents\n",
    "url = config[\"vectorstore\"][\"url\"]\n",
    "api_key = os.getenv(\"QDRANT_API_KEY\")\n",
    "\n",
    "\n",
    "model_name = \"BAAI/bge-base-en-v1.5\"\n",
    "embeddings = HuggingFaceEmbeddings(\n",
    "    model_name=model_name,\n",
    ")\n",
    "\n",
    "vectorstore = Qdrant.from_documents(\n",
    "    text_chunks,\n",
    "    embeddings,\n",
    "    url=url,\n",
    "    prefer_grpc=True,\n",
    "    api_key=api_key,\n",
    "    collection_name=\"constitution\",\n",
    ")"
   ]
  },
  {
   "cell_type": "markdown",
   "metadata": {},
   "source": [
    "## Retriever Initialization"
   ]
  },
  {
   "cell_type": "code",
   "execution_count": 21,
   "metadata": {},
   "outputs": [],
   "source": [
    "# Instantiate retriever\n",
    "retriever = vectorstore.as_retriever(search_kwargs={\"k\": 5})"
   ]
  },
  {
   "cell_type": "code",
   "execution_count": 23,
   "metadata": {},
   "outputs": [],
   "source": [
    "# Get prompt\n",
    "prompt = \"\"\"\n",
    "You are a knowledgeable and friendly legal assistant with expertise in Kenyan law. Your task is to help the common person understand various aspects of Kenyan law in a simple, clear, and easy-to-understand manner.\n",
    "\n",
    "When responding, please follow these guidelines:\n",
    "\n",
    "- Simplify Legal Terms: Use simple language and avoid legal jargon. When legal terms must be used, provide clear explanations.\n",
    "- Provide Examples: Where possible, use examples or analogies to make complex legal concepts easier to grasp.\n",
    "- Be Concise: Keep your responses short and to the point, but ensure they are complete and informative.\n",
    "- Be Neutral and Informative: Provide information neutrally without offering personal opinions or legal advice.\n",
    "\n",
    "Use the following pieces of retrieved context to answer the question.\n",
    "\n",
    "Question: {question}\n",
    "Context: {context}\n",
    "Answer:\n",
    "\"\"\"\n",
    "\n",
    "prompt_template = PromptTemplate.from_template(prompt)"
   ]
  },
  {
   "cell_type": "markdown",
   "metadata": {},
   "source": [
    "## Create QA Chain"
   ]
  },
  {
   "cell_type": "code",
   "execution_count": 24,
   "metadata": {},
   "outputs": [],
   "source": [
    "# Post-processing\n",
    "def format_docs(docs):\n",
    "    return \"\\n\\n\".join(doc.page_content for doc in docs)"
   ]
  },
  {
   "cell_type": "code",
   "execution_count": 31,
   "metadata": {},
   "outputs": [
    {
     "name": "stdout",
     "output_type": "stream",
     "text": [
      "The token has not been saved to the git credentials helper. Pass `add_to_git_credential=True` in this function directly or `--add-to-git-credential` if using via `huggingface-cli` if you want to set the git credential as well.\n",
      "Token is valid (permission: read).\n",
      "Your token has been saved to C:\\Users\\Spectra\\.cache\\huggingface\\token\n",
      "Login successful\n"
     ]
    }
   ],
   "source": [
    "# LLM\n",
    "\n",
    "repo_id = \"mistralai/Mixtral-8x7B-Instruct-v0.1\"\n",
    "\n",
    "llm = HuggingFaceEndpoint(\n",
    "    repo_id=repo_id,\n",
    "    temperature=0.3,\n",
    ")"
   ]
  },
  {
   "cell_type": "code",
   "execution_count": 32,
   "metadata": {},
   "outputs": [],
   "source": [
    "# Chain using LangChain Expression Language\n",
    "rag_chain = (\n",
    "    {\"context\": retriever | format_docs, \"question\": RunnablePassthrough()}\n",
    "    | prompt_template\n",
    "    | llm\n",
    "    | StrOutputParser()\n",
    ")"
   ]
  },
  {
   "cell_type": "code",
   "execution_count": 16,
   "metadata": {},
   "outputs": [],
   "source": [
    "def stream_response(query):\n",
    "    for chunk in rag_chain.stream(query):\n",
    "        print(chunk, end=\"\", flush=True)"
   ]
  },
  {
   "cell_type": "code",
   "execution_count": 43,
   "metadata": {},
   "outputs": [
    {
     "name": "stdout",
     "output_type": "stream",
     "text": [
      "The rights of an arrested person in Kenya are guaranteed by the Constitution, specifically Article 49. According to this Article, an arrested person has the right to:\n",
      "\n",
      "1. Be informed promptly, in a language they understand, of the reason for their arrest, their right to remain silent, and the consequences of not remaining silent.\n",
      "2. Remain silent.\n",
      "3. Be brought before a court of law within 24 hours of being arrested, or as soon as reasonably possible.\n",
      "4. Be released on bond or bail, unless there are compelling reasons not to do so.\n",
      "5. Be represented by a legal practitioner of their choice.\n",
      "6. Have an interpreter if they do not understand the language used in court.\n",
      "7. Be treated with humanity and respect for their inherent dignity.\n",
      "\n",
      "Additionally, Article 25 of the Constitution states that certain rights and fundamental freedoms cannot be limited, including freedom from torture and cruel, inhuman or degrading treatment or punishment, freedom from slavery or servitude, the right to a fair trial, and the right to an order of habeas corpus.\n",
      "\n",
      "Furthermore, Article 28 guarantees every person's right to human dignity, and Article 29 guarantees every person's right to freedom and security of the person, which includes the right not to be detained without trial.\n",
      "\n",
      "Lastly, Article 48 states that the State shall ensure access to justice for all persons, and if any fee is required, it shall be reasonable and shall not impede access to justice. Article 51 provides for the rights and welfare of persons detained, held in custody or imprisoned.</s>"
     ]
    }
   ],
   "source": [
    "stream_response(\n",
    "    \"What are the rights of an arrested person and what section of the constitution guarantees these rights?\"\n",
    ")"
   ]
  },
  {
   "cell_type": "code",
   "execution_count": 9,
   "metadata": {},
   "outputs": [],
   "source": [
    "from lex_guardian.rag import instantiate_db, setup_retriever, setup_llm, setup_rag_chain"
   ]
  },
  {
   "cell_type": "code",
   "execution_count": 7,
   "metadata": {},
   "outputs": [
    {
     "name": "stderr",
     "output_type": "stream",
     "text": [
      "c:\\Users\\Spectra\\LexGuardian\\.venv\\Lib\\site-packages\\langchain_core\\_api\\deprecation.py:139: LangChainDeprecationWarning: The class `HuggingFaceEmbeddings` was deprecated in LangChain 0.2.2 and will be removed in 0.3.0. An updated version of the class exists in the langchain-huggingface package and should be used instead. To use it run `pip install -U langchain-huggingface` and import as `from langchain_huggingface import HuggingFaceEmbeddings`.\n",
      "  warn_deprecated(\n",
      "c:\\Users\\Spectra\\LexGuardian\\.venv\\Lib\\site-packages\\sentence_transformers\\cross_encoder\\CrossEncoder.py:11: TqdmExperimentalWarning: Using `tqdm.autonotebook.tqdm` in notebook mode. Use `tqdm.tqdm` instead to force console mode (e.g. in jupyter console)\n",
      "  from tqdm.autonotebook import tqdm, trange\n",
      "2024-07-04 16:31:05,998 - sentence_transformers.SentenceTransformer - INFO - Use pytorch device_name: cpu\n",
      "2024-07-04 16:31:06,002 - sentence_transformers.SentenceTransformer - INFO - Load pretrained SentenceTransformer: BAAI/bge-base-en-v1.5\n",
      "c:\\Users\\Spectra\\LexGuardian\\.venv\\Lib\\site-packages\\langchain_core\\_api\\deprecation.py:139: LangChainDeprecationWarning: The class `Qdrant` was deprecated in LangChain 0.0.37 and will be removed in 0.3.0. An updated version of the class exists in the langchain-qdrant package and should be used instead. To use it run `pip install -U langchain-qdrant` and import as `from langchain_qdrant import Qdrant`.\n",
      "  warn_deprecated(\n"
     ]
    }
   ],
   "source": [
    "db = instantiate_db(config)\n",
    "retriever = setup_retriever(db)"
   ]
  },
  {
   "cell_type": "code",
   "execution_count": 8,
   "metadata": {},
   "outputs": [
    {
     "name": "stderr",
     "output_type": "stream",
     "text": [
      "c:\\Users\\Spectra\\LexGuardian\\.venv\\Lib\\site-packages\\langchain_core\\_api\\deprecation.py:139: LangChainDeprecationWarning: The method `BaseRetriever.get_relevant_documents` was deprecated in langchain-core 0.1.46 and will be removed in 0.3.0. Use invoke instead.\n",
      "  warn_deprecated(\n",
      "2024-07-04 16:32:57,261 - httpx - INFO - HTTP Request: POST https://b439d150-8555-4215-96d3-e48eb3ad8e86.europe-west3-0.gcp.cloud.qdrant.io:6333/collections/constitution/points/search \"HTTP/1.1 200 OK\"\n"
     ]
    },
    {
     "data": {
      "text/plain": [
       "[Document(metadata={'page': 27, 'source': 'data/raw/TheConstitutionOfKenya.pdf', '_id': 'd2f427a3-e603-4f67-a7ac-930648de3f82', '_collection_name': 'constitution'}, page_content='(b) promote efﬁcient administration.\\nAccess to justice.\\n48. \\xa0The State shall ensure access to justice for all persons and, if any fee is\\nrequired, it shall be reasonable and shall not impede access to justice.\\nRights of arrested persons.\\n49. \\xa0 (1)\\xa0\\xa0An arrested person has the right —\\n(a) to be informed promptly, in a language that the person understands,\\nof—\\n(i) the reason for the arrest;\\n(ii) the right to remain silent; and\\n(iii) the consequences of not remaining silent;\\n(b) to remain silent;'),\n",
       " Document(metadata={'page': 27, 'source': 'data/raw/TheConstitutionOfKenya.pdf', '_id': '8e0e9da3-55e4-4ab3-ad98-5d113d136408', '_collection_name': 'constitution'}, page_content='(b) promote efﬁcient administration.\\nAccess to justice.\\n48. \\xa0The State shall ensure access to justice for all persons and, if any fee is\\nrequired, it shall be reasonable and shall not impede access to justice.\\nRights of arrested persons.\\n49. \\xa0 (1)\\xa0\\xa0An arrested person has the right —\\n(a) to be informed promptly, in a language that the person understands,\\nof—\\n(i) the reason for the arrest;\\n(ii) the right to remain silent; and\\n(iii) the consequences of not remaining silent;\\n(b) to remain silent;'),\n",
       " Document(metadata={'page': 28, 'source': 'data/raw/TheConstitutionOfKenya.pdf', '_id': '26f70202-06da-4674-b7d2-3e0fde52f6c5', '_collection_name': 'constitution'}, page_content='[Rev. 2022] Constitution of Kenya 29\\n(d) not to be compelled to make any confession or admission that could be\\nused in evidence against the person;\\n(e) to be held separately from persons who are serving a sentence;\\n(f)to be brought before a court as soon as reasonably possible, but not\\nlater than —\\n(i) twenty-four hours after being arrested; or\\n(ii) if the twenty-four hours ends outside ordinary court hours, or on\\na day that is not an ordinary court day, the end of the next court\\nday;'),\n",
       " Document(metadata={'page': 28, 'source': 'data/raw/TheConstitutionOfKenya.pdf', '_id': 'c72ab4ff-6b9c-46f8-9a6c-da2afce3df63', '_collection_name': 'constitution'}, page_content='[Rev. 2022] Constitution of Kenya 29\\n(d) not to be compelled to make any confession or admission that could be\\nused in evidence against the person;\\n(e) to be held separately from persons who are serving a sentence;\\n(f)to be brought before a court as soon as reasonably possible, but not\\nlater than —\\n(i) twenty-four hours after being arrested; or\\n(ii) if the twenty-four hours ends outside ordinary court hours, or on\\na day that is not an ordinary court day, the end of the next court\\nday;'),\n",
       " Document(metadata={'page': 28, 'source': 'data/raw/TheConstitutionOfKenya.pdf', '_id': '87a085a9-b04f-4993-a11e-3363c4ddcd00', '_collection_name': 'constitution'}, page_content='day;\\n(g) at the ﬁrst court appearance, to be charged or informed of the reason\\nfor the detention continuing, or to be released; and\\n(h) to be released on bond or bail, on reasonable conditions, pending a\\ncharge or trial, unless there are compelling reasons not to be released.\\n(2)\\xa0\\xa0A person shall not be remanded in custody for an offence if the offence is\\npunishable by a ﬁne only or by imprisonment for not more than six months.\\nFair hearing.')]"
      ]
     },
     "execution_count": 8,
     "metadata": {},
     "output_type": "execute_result"
    }
   ],
   "source": [
    "retriever.get_relevant_documents(\"my laws when I get arrested\")"
   ]
  },
  {
   "cell_type": "code",
   "execution_count": 11,
   "metadata": {},
   "outputs": [
    {
     "name": "stderr",
     "output_type": "stream",
     "text": [
      "c:\\Users\\Spectra\\LexGuardian\\.venv\\Lib\\site-packages\\langchain_core\\_api\\deprecation.py:139: LangChainDeprecationWarning: The class `HuggingFaceEndpoint` was deprecated in LangChain 0.0.37 and will be removed in 0.3. An updated version of the class exists in the langchain-huggingface package and should be used instead. To use it run `pip install -U langchain-huggingface` and import as `from langchain_huggingface import HuggingFaceEndpoint`.\n",
      "  warn_deprecated(\n"
     ]
    },
    {
     "name": "stdout",
     "output_type": "stream",
     "text": [
      "The token has not been saved to the git credentials helper. Pass `add_to_git_credential=True` in this function directly or `--add-to-git-credential` if using via `huggingface-cli` if you want to set the git credential as well.\n",
      "Token is valid (permission: read).\n",
      "Your token has been saved to C:\\Users\\Spectra\\.cache\\huggingface\\token\n",
      "Login successful\n"
     ]
    }
   ],
   "source": [
    "llm = setup_llm()"
   ]
  },
  {
   "cell_type": "code",
   "execution_count": 14,
   "metadata": {},
   "outputs": [],
   "source": [
    "rag_chain = setup_rag_chain(llm=llm, retriever=retriever)"
   ]
  },
  {
   "cell_type": "code",
   "execution_count": 15,
   "metadata": {},
   "outputs": [
    {
     "data": {
      "text/plain": [
       "{\n",
       "  context: VectorStoreRetriever(tags=['Qdrant', 'HuggingFaceEmbeddings'], vectorstore=<langchain_community.vectorstores.qdrant.Qdrant object at 0x000001E94D20C690>, search_kwargs={'k': 5})\n",
       "           | RunnableLambda(format_docs),\n",
       "  question: RunnablePassthrough()\n",
       "}\n",
       "| PromptTemplate(input_variables=['context', 'question'], template='\\n    You are a knowledgeable and friendly legal assistant with expertise in Kenyan law. Your task is to help the common person understand various aspects of Kenyan law in a simple, clear, and easy-to-understand manner.\\n\\n    When responding, please follow these guidelines:\\n\\n    - Simplify Legal Terms: Use simple language and avoid legal jargon. When legal terms must be used, provide clear explanations.\\n    - Provide Examples: Where possible, use examples or analogies to make complex legal concepts easier to grasp.\\n    - Be Concise: Keep your responses short and to the point, but ensure they are complete and informative.\\n    - Be Neutral and Informative: Provide information neutrally without offering personal opinions or legal advice.\\n\\n    Use the following pieces of retrieved context to answer the question.\\n\\n    Question: {question}\\n    Context: {context}\\n    Answer:\\n    ')\n",
       "| HuggingFaceEndpoint(repo_id='mistralai/Mixtral-8x7B-Instruct-v0.1', temperature=0.3, model='mistralai/Mixtral-8x7B-Instruct-v0.1', client=<InferenceClient(model='mistralai/Mixtral-8x7B-Instruct-v0.1', timeout=120)>, async_client=<InferenceClient(model='mistralai/Mixtral-8x7B-Instruct-v0.1', timeout=120)>)\n",
       "| StrOutputParser()"
      ]
     },
     "execution_count": 15,
     "metadata": {},
     "output_type": "execute_result"
    }
   ],
   "source": [
    "rag_chain"
   ]
  },
  {
   "cell_type": "code",
   "execution_count": 17,
   "metadata": {},
   "outputs": [
    {
     "name": "stderr",
     "output_type": "stream",
     "text": [
      "2024-07-04 16:36:56,947 - httpx - INFO - HTTP Request: POST https://b439d150-8555-4215-96d3-e48eb3ad8e86.europe-west3-0.gcp.cloud.qdrant.io:6333/collections/constitution/points/search \"HTTP/1.1 200 OK\"\n"
     ]
    },
    {
     "name": "stdout",
     "output_type": "stream",
     "text": [
      "\n",
      "    When you get arrested in Kenya, the law guarantees you certain rights to ensure fairness and access to justice. Here are some of the key rights:\n",
      "\n",
      "    1. **Be informed of the reason for arrest**: You have the right to be told why you are being arrested. This should be done in a language you understand.\n",
      "\n",
      "    2. **Right to remain silent**: You can choose not to say anything that could be used as evidence against you.\n",
      "\n",
      "    3. **Right not to be compelled to make a confession or admission**: You cannot be forced to admit to something that could be used as evidence against you.\n",
      "\n",
      "    4. **Right to be held separately**: If you are arrested, you should be held separately from people who are serving a sentence.\n",
      "\n",
      "    5. **Right to be brought before a court**: You should be taken to court as soon as possible, but not later than 24 hours after being arrested. If the 24 hours ends outside ordinary court hours or on a day that is not an ordinary court day, you should be taken to court the next day.\n",
      "\n",
      "    6. **Right to be charged or informed of the reason for detention**: At your first court appearance, you should be charged or informed of the reason for your detention continuing, or be released.\n",
      "\n",
      "    7. **Right to be released on bond or bail**: Unless there are compelling reasons not to, you have the right to be released on bond or bail pending a charge or trial.\n",
      "\n",
      "    You cannot be remanded in custody for an offence that is punishable by a fine only or by imprisonment for not more than six months. These rights are enshrined in the Constitution of Kenya to promote efficient administration and access to justice for all persons.</s>"
     ]
    }
   ],
   "source": [
    "stream_response(\"my laws when I get arrested\")"
   ]
  },
  {
   "cell_type": "code",
   "execution_count": null,
   "metadata": {},
   "outputs": [],
   "source": []
  }
 ],
 "metadata": {
  "kernelspec": {
   "display_name": ".venv",
   "language": "python",
   "name": "python3"
  },
  "language_info": {
   "codemirror_mode": {
    "name": "ipython",
    "version": 3
   },
   "file_extension": ".py",
   "mimetype": "text/x-python",
   "name": "python",
   "nbconvert_exporter": "python",
   "pygments_lexer": "ipython3",
   "version": "3.11.5"
  }
 },
 "nbformat": 4,
 "nbformat_minor": 2
}
